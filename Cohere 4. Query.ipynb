{
 "cells": [
  {
   "cell_type": "code",
   "execution_count": 15,
   "metadata": {},
   "outputs": [
    {
     "name": "stdout",
     "output_type": "stream",
     "text": [
      "Query: 巴黎\n",
      "Score: 0.62\n",
      "The capital of France is Paris\n",
      "--------\n",
      "Score: 0.27\n",
      "The average cat lifespan is between 13-17 years\n",
      "--------\n",
      "Score: 0.25\n",
      "PyTorch is a machine learning framework based on the Torch library.\n",
      "--------\n"
     ]
    }
   ],
   "source": [
    "# This snippet shows and example how to use the Cohere Embed V3 models for semantic search.\n",
    "# Make sure to have the Cohere SDK in at least v4.30 install: pip install -U cohere \n",
    "# Get your API key from: www.cohere.com\n",
    "import cohere\n",
    "import numpy as np\n",
    "\n",
    "cohere_key = \"...\"\n",
    "co = cohere.Client(cohere_key)\n",
    "\n",
    "docs = [\"The capital of France is Paris\",\n",
    "        \"PyTorch is a machine learning framework based on the Torch library.\",\n",
    "        \"The average cat lifespan is between 13-17 years\",\n",
    "        ]\n",
    "\n",
    "\n",
    "#Encode your documents with input type 'search_document'\n",
    "doc_emb = co.embed(docs, input_type=\"search_document\", model=\"embed-multilingual-v3.0\").embeddings\n",
    "doc_emb = np.asarray(doc_emb)\n",
    "\n",
    "\n",
    "#Encode your query with input type 'search_query'\n",
    "query = \"巴黎\"\n",
    "query_emb = co.embed([query], input_type=\"search_query\", model=\"embed-multilingual-v3.0\").embeddings\n",
    "query_emb = np.asarray(query_emb)\n",
    "query_emb.shape\n",
    "\n",
    "#Compute the dot product between query embedding and document embedding\n",
    "scores = np.dot(query_emb, doc_emb.T)[0]\n",
    "\n",
    "#Find the highest scores\n",
    "max_idx = np.argsort(-scores)\n",
    "\n",
    "print(f\"Query: {query}\")\n",
    "for idx in max_idx:\n",
    "  print(f\"Score: {scores[idx]:.2f}\")\n",
    "  print(docs[idx])\n",
    "  print(\"--------\")"
   ]
  }
 ],
 "metadata": {
  "kernelspec": {
   "display_name": "Python 3",
   "language": "python",
   "name": "python3"
  },
  "language_info": {
   "codemirror_mode": {
    "name": "ipython",
    "version": 3
   },
   "file_extension": ".py",
   "mimetype": "text/x-python",
   "name": "python",
   "nbconvert_exporter": "python",
   "pygments_lexer": "ipython3",
   "version": "3.10.0"
  }
 },
 "nbformat": 4,
 "nbformat_minor": 2
}
