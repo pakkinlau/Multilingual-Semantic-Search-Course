{
 "cells": [
  {
   "cell_type": "markdown",
   "metadata": {},
   "source": [
    "Put key in environment variable: "
   ]
  },
  {
   "cell_type": "markdown",
   "metadata": {},
   "source": [
    "windows: \n",
    "- Open windows command prompt and run `!setx COHERE_API_KEY \"<the_key>\"`"
   ]
  },
  {
   "cell_type": "markdown",
   "metadata": {},
   "source": [
    "Linux:"
   ]
  },
  {
   "cell_type": "code",
   "execution_count": null,
   "metadata": {},
   "outputs": [],
   "source": [
    "!echo 'export COHERE_API_KEY=your_actual_api_key' >> ~/.bashrc\n",
    "!source ~/.bashrc"
   ]
  },
  {
   "cell_type": "markdown",
   "metadata": {},
   "source": [
    "Test the performance: "
   ]
  },
  {
   "cell_type": "code",
   "execution_count": 3,
   "metadata": {},
   "outputs": [
    {
     "name": "stdout",
     "output_type": "stream",
     "text": [
      "None\n"
     ]
    }
   ],
   "source": [
    "import os\n",
    "\n",
    "cohere_key = os.getenv('COHERE_API_KEY') \n",
    "print(cohere_key)"
   ]
  },
  {
   "cell_type": "code",
   "execution_count": 4,
   "metadata": {},
   "outputs": [
    {
     "name": "stdout",
     "output_type": "stream",
     "text": [
      "Query: What is Pytorch\n",
      "Score: 0.63\n",
      "PyTorch is a machine learning framework based on the Torch library.\n",
      "--------\n",
      "Score: 0.24\n",
      "The capital of France is Paris\n",
      "--------\n",
      "Score: 0.20\n",
      "The average cat lifespan is between 13-17 years\n",
      "--------\n"
     ]
    }
   ],
   "source": [
    "# This snippet shows and example how to use the Cohere Embed V3 models for semantic search.\n",
    "# Make sure to have the Cohere SDK in at least v4.30 install: pip install -U cohere \n",
    "# Get your API key from: www.cohere.com\n",
    "import cohere\n",
    "import numpy as np\n",
    "import os\n",
    "\n",
    "cohere_key = os.getenv('COHERE_API_KEY')  #Get your API key from www.cohere.com\n",
    "cohere_key = \"...\"\n",
    "co = cohere.Client(cohere_key)\n",
    "\n",
    "docs = [\"The capital of France is Paris\",\n",
    "        \"PyTorch is a machine learning framework based on the Torch library.\",\n",
    "        \"The average cat lifespan is between 13-17 years\"]\n",
    "\n",
    "\n",
    "#Encode your documents with input type 'search_document'\n",
    "doc_emb = co.embed(docs, input_type=\"search_document\", model=\"embed-multilingual-v3.0\").embeddings\n",
    "doc_emb = np.asarray(doc_emb)\n",
    "\n",
    "\n",
    "#Encode your query with input type 'search_query'\n",
    "query = \"What is Pytorch\"\n",
    "query_emb = co.embed([query], input_type=\"search_query\", model=\"embed-multilingual-v3.0\").embeddings\n",
    "query_emb = np.asarray(query_emb)\n",
    "query_emb.shape\n",
    "\n",
    "#Compute the dot product between query embedding and document embedding\n",
    "scores = np.dot(query_emb, doc_emb.T)[0]\n",
    "\n",
    "#Find the highest scores\n",
    "max_idx = np.argsort(-scores)\n",
    "\n",
    "print(f\"Query: {query}\")\n",
    "for idx in max_idx:\n",
    "  print(f\"Score: {scores[idx]:.2f}\")\n",
    "  print(docs[idx])\n",
    "  print(\"--------\")\n"
   ]
  },
  {
   "cell_type": "markdown",
   "metadata": {},
   "source": [
    "## There are 6 functionalities:\n",
    "\n",
    "- Chat\n",
    "- Classify\n",
    "- Embed\n",
    "- Generate \n",
    "- Summarize \n",
    "- Rerank\n",
    "\n",
    "Or, 3 categories:\n",
    "- Command (Chat and text generation)\n",
    "- Rerank (Search)\n",
    "- Embed (Representation and search)"
   ]
  },
  {
   "cell_type": "markdown",
   "metadata": {},
   "source": [
    "Multiplingual embed model"
   ]
  },
  {
   "cell_type": "code",
   "execution_count": 5,
   "metadata": {},
   "outputs": [
    {
     "name": "stdout",
     "output_type": "stream",
     "text": [
      "[0.23461914, 0.50146484, -0.048828125, 0.13989258, -0.18029785]\n"
     ]
    }
   ],
   "source": [
    "import cohere  \n",
    "api_key = \"...\"\n",
    "co = cohere.Client(f\"{api_key}\")  \n",
    "texts = [  \n",
    "   'Hello from Cohere!', 'مرحبًا من كوهير!', 'Hallo von Cohere!',  \n",
    "   'Bonjour de Cohere!', '¡Hola desde Cohere!', 'Olá do Cohere!',  \n",
    "   'Ciao da Cohere!', '您好，来自 Cohere！', 'कोहेरे से नमस्ते!'  \n",
    "]  \n",
    "response = co.embed(texts=texts, model='embed-multilingual-v2.0')  \n",
    "embeddings = response.embeddings # All text embeddings \n",
    "print(embeddings[0][:5]) # Print embeddings for the first text"
   ]
  }
 ],
 "metadata": {
  "kernelspec": {
   "display_name": "Python 3",
   "language": "python",
   "name": "python3"
  },
  "language_info": {
   "codemirror_mode": {
    "name": "ipython",
    "version": 3
   },
   "file_extension": ".py",
   "mimetype": "text/x-python",
   "name": "python",
   "nbconvert_exporter": "python",
   "pygments_lexer": "ipython3",
   "version": "3.10.0"
  }
 },
 "nbformat": 4,
 "nbformat_minor": 2
}
